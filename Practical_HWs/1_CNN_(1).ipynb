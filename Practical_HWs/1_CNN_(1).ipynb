{
  "cells": [
    {
      "cell_type": "markdown",
      "metadata": {
        "id": "lkW1NXjyorbp"
      },
      "source": [
        "<img src='http://www-scf.usc.edu/~ghasemig/images/sharif.png' alt=\"SUT logo\" width=200 height=200 align=left class=\"saturate\" >\n",
        "\n",
        "<br>\n",
        "<font face=\"Times New Roman\">\n",
        "<div dir=ltr align=center>\n",
        "<font color=0F5298 size=7>\n",
        "    Introduction to Machine Learning <br>\n",
        "<font color=2565AE size=5>\n",
        "    Computer Engineering Department <br>\n",
        "    Fall 2022<br>\n",
        "<font color=3C99D size=5>\n",
        "    Homework 4: Practical - Convolutional Neural Networks <br>\n",
        "<font color=696880 size=4>\n",
        "    Arian Amani\n",
        "    \n",
        "    \n",
        "____\n"
      ]
    },
    {
      "cell_type": "markdown",
      "metadata": {
        "id": "VKVAVjA4orb2"
      },
      "source": [
        "### Full Name : KASRA MALIHI\n",
        "### Student Number : 99105742\n",
        "___"
      ]
    },
    {
      "cell_type": "markdown",
      "metadata": {
        "id": "p2HdlGpqorb3"
      },
      "source": [
        "# Problem\n",
        "This assignment uses PyTorch to build and implement a residual CNN for solving a classification problem. Our goal is to classify handwritten digits from 0 to 9 on the MNIST dataset. You can try larger and more fun datasets if you have access to Google Colab. (for example: [facial emotion detection](https://www.kaggle.com/datasets/msambare/fer2013))\n",
        "\n",
        "* It is highly recommended to run this notebook on Google Colab so that you can utilize its GPU.\n",
        "* If you need to change the inputs of functions you are implementing, or want to add new cells or functions, feel free to do so."
      ]
    },
    {
      "cell_type": "markdown",
      "metadata": {
        "id": "W0bGV8AXO3Yx"
      },
      "source": [
        "# Setup"
      ]
    },
    {
      "cell_type": "code",
      "execution_count": 1,
      "metadata": {
        "id": "CdrZr6HWO2p8"
      },
      "outputs": [],
      "source": [
        "import torch\n",
        "from torch import nn\n",
        "from torch.nn import functional as F\n",
        "from torch.utils.data import Dataset, DataLoader, random_split\n",
        "from torchvision import transforms, datasets\n",
        "\n",
        "from tqdm import tqdm\n",
        "import numpy as np\n",
        "import pandas as pd\n",
        "import matplotlib.pyplot as plt\n",
        "\n",
        "plt.style.use('ggplot')\n",
        "###########################################################\n",
        "##  If you need any other packages, import them below    ##\n",
        "###########################################################\n"
      ]
    },
    {
      "cell_type": "code",
      "execution_count": 2,
      "metadata": {
        "colab": {
          "base_uri": "https://localhost:8080/"
        },
        "id": "Rrg1US5gorb4",
        "outputId": "134cd1b5-5406-45f7-f9ba-f0b9c51c0de4"
      },
      "outputs": [
        {
          "output_type": "execute_result",
          "data": {
            "text/plain": [
              "device(type='cuda')"
            ]
          },
          "metadata": {},
          "execution_count": 2
        }
      ],
      "source": [
        "device = torch.device('cuda' if torch.cuda.is_available() else 'cpu')\n",
        "device"
      ]
    },
    {
      "cell_type": "markdown",
      "metadata": {
        "id": "gzydGC2SNuAu"
      },
      "source": [
        "# Prepare The Data (10 Points)"
      ]
    },
    {
      "cell_type": "markdown",
      "metadata": {
        "id": "PMKOMcqAorb5"
      },
      "source": [
        "Write a composed transformation to transform our dataset's PIL images to tensors and normalize them with ```mean: 0.1307``` and ```std: 0.3081```: "
      ]
    },
    {
      "cell_type": "markdown",
      "metadata": {
        "id": "EFrH1H8oorb5"
      },
      "source": [
        "<details>\n",
        "<summary>Hint</summary>\n",
        "<br>\n",
        "<a href=\"https://pytorch.org/vision/stable/generated/torchvision.transforms.Compose.html\">torchvision.transforms.Compose</a>\n",
        "</details>"
      ]
    },
    {
      "cell_type": "code",
      "execution_count": 3,
      "metadata": {
        "id": "UG84TmR7orb5"
      },
      "outputs": [],
      "source": [
        "###############################################################\n",
        "##                Compose your transformations               ##\n",
        "###############################################################\n",
        "transformation = transforms.Compose([transforms.ToTensor(), transforms.Normalize(mean = 0.1307, std = 0.3081),])"
      ]
    },
    {
      "cell_type": "markdown",
      "metadata": {
        "id": "ANdYnd04N0ze"
      },
      "source": [
        "Split the downloaded MNIST dataset into two dataloaders ```train``` & ```val```"
      ]
    },
    {
      "cell_type": "code",
      "execution_count": 15,
      "metadata": {
        "colab": {
          "base_uri": "https://localhost:8080/"
        },
        "id": "6o98BBm4orb6",
        "outputId": "c72fb372-9335-452d-9ab1-48570c9b752f"
      },
      "outputs": [
        {
          "output_type": "stream",
          "name": "stdout",
          "text": [
            "torch.Size([60000, 28, 28])\n",
            "Dataset MNIST\n",
            "    Number of datapoints: 60000\n",
            "    Root location: data\n",
            "    Split: Train\n",
            "    StandardTransform\n",
            "Transform: Compose(\n",
            "               ToTensor()\n",
            "               Normalize(mean=0.1307, std=0.3081)\n",
            "           )\n"
          ]
        }
      ],
      "source": [
        "train_data = datasets.MNIST(\n",
        "    root = 'data',\n",
        "    train = True,                         \n",
        "    transform = transformation, \n",
        "    download = True,            \n",
        ")\n",
        "test_data = datasets.MNIST(\n",
        "    root = 'data', \n",
        "    train = False, \n",
        "    transform = transformation\n",
        ")\n",
        "\n",
        "# Number of images in the dataset: 60,000\n",
        "print(train_data.data.size())\n",
        "\n",
        "# Split the dataset into training and validation sets\n",
        "t_data, v_data = random_split(train_data, [50000, 10000])\n",
        "\n",
        "print(train_data)"
      ]
    },
    {
      "cell_type": "code",
      "source": [
        "figure = plt.figure(figsize=(10, 8))\n",
        "cols, rows = 10, 1\n",
        "t = True\n",
        "j = 0\n",
        "i = 0\n",
        "while t:\n",
        "  if train_data.targets[j] == i: \n",
        "    img, label = train_data[j]\n",
        "    figure.add_subplot(rows, cols, i+1)\n",
        "    plt.title(label)\n",
        "    plt.axis(\"off\")\n",
        "    plt.imshow(img.squeeze(), cmap=\"gray\")\n",
        "    i += 1\n",
        "  j +=1\n",
        "  if i == 10:\n",
        "    t = False\n",
        "plt.show()"
      ],
      "metadata": {
        "colab": {
          "base_uri": "https://localhost:8080/",
          "height": 95
        },
        "id": "TsqiNBq2sHSY",
        "outputId": "fc4b5a3c-2e18-4d25-c4d6-36e7ebdcec84"
      },
      "execution_count": 16,
      "outputs": [
        {
          "output_type": "display_data",
          "data": {
            "text/plain": [
              "<Figure size 720x576 with 10 Axes>"
            ],
            "image/png": "[encoded data removed]"
          },
          "metadata": {}
        }
      ]
    },
    {
      "cell_type": "markdown",
      "metadata": {
        "id": "UujhzEnEorb6"
      },
      "source": [
        "Create dataloaders for your train and validation data with ```batch size 16``` and ```shuffle = True``` for train loader."
      ]
    },
    {
      "cell_type": "markdown",
      "metadata": {
        "id": "03SK63ZSorb6"
      },
      "source": [
        "<details>\n",
        "<summary>Hint</summary>\n",
        "<br>\n",
        "<a href=\"https://pytorch.org/tutorials/beginner/basics/data_tutorial.html\">DATASETS & DATALOADERS</a>\n",
        "</details>"
      ]
    },
    {
      "cell_type": "code",
      "execution_count": 18,
      "metadata": {
        "id": "4CEUTGaFQI51"
      },
      "outputs": [],
      "source": [
        "###############################################################\n",
        "##           Load the datasets into train/valid              ##\n",
        "##                       dataloaders                         ##\n",
        "###############################################################\n",
        "batch_size = 16\n",
        "num_threads = 2\n",
        "train_loader = torch.utils.data.DataLoader(dataset=t_data,batch_size=batch_size, shuffle=True, num_workers=num_threads)\n",
        "val_loader = torch.utils.data.DataLoader(dataset=v_data,batch_size=batch_size, shuffle=True, num_workers=num_threads)"
      ]
    },
    {
      "cell_type": "markdown",
      "metadata": {
        "id": "HF_40_3rQ5Uv"
      },
      "source": [
        "# Define Model (40 Points)"
      ]
    },
    {
      "cell_type": "markdown",
      "metadata": {
        "id": "bxotOC7Oorb8"
      },
      "source": [
        "### You need to implement a model with the architecture below:\n",
        "[Input: (BS, 1, 28, 28)] -- > [Conv2D (BS, 16, 28, 28)] --> ReLU --> [MaxPool2D (BS, 16, 14, 14): Residual1]\n",
        "\n",
        "--> [Conv2D (BS, 16, 14, 14)] --> ReLU --> [Conv2D (BS, 16, 14, 14)] --> ReLU --> [Addition with Residual1]\n",
        "\n",
        "--> [MaxPool2D (BS, 16, 7, 7)] --> [Conv2D (BS, 64, 7, 7)] --> [ReLU: Residual2]\n",
        "\n",
        "--> [Conv2D (BS, 64, 7, 7)] --> ReLU --> [Conv2D (BS, 64, 7, 7)] --> ReLU --> [Addition with Residual2]\n",
        "\n",
        "--> [GlobalAveragePooling (BS, 64, 1, 1)] --> [Flatten (BS, 64)] --> [Linear (BS, 10)] --> ReLU --> OUT\n",
        "\n",
        "Here you can see the drawn schematic of the architecture, too: [Link](https://drive.google.com/file/d/1gQzafyxTkuvQr8T-xUncLmedX94LnY_l/view?usp=share_link)"
      ]
    },
    {
      "cell_type": "markdown",
      "metadata": {
        "id": "z_s83UW8orb8"
      },
      "source": [
        "<details>\n",
        "<summary>Hint</summary>\n",
        "<br>\n",
        "These might be helpful:\n",
        "<br>\n",
        "<a href=\"https://pytorch.org/docs/stable/generated/torch.clone.html\">TORCH.CLONE</a>\n",
        "<br><br>\n",
        "<a href=\"https://pytorch.org/docs/master/generated/torch.nn.AdaptiveAvgPool2d.html#torch.nn.AdaptiveAvgPool2d\">AdaptiveAvgPool2d</a> with output size (1, 1) for global average pooling\n",
        "<br><br>\n",
        "<a href=\"https://arxiv.org/pdf/1512.03385.pdf\">Deep Residual Learning for Image Recognition</a>\n",
        "</details>"
      ]
    },
    {
      "cell_type": "code",
      "execution_count": 21,
      "metadata": {
        "id": "jQfGVj2rQ90G"
      },
      "outputs": [],
      "source": [
        "#####################################\n",
        "##        Define your model        ##\n",
        "##            Your Code            ##\n",
        "#####################################\n",
        "class ResidualClassifier(nn.Module):\n",
        "    def __init__(self):\n",
        "      super(ResidualClassifier, self).__init__()\n",
        "      self.conv1 = nn.Conv2d(in_channels= 1, out_channels= 16, kernel_size=3 , padding = 1, stride = 1)\n",
        "      self.relu1 = nn.ReLU(inplace=True)\n",
        "      self.max1 = nn.MaxPool2d(kernel_size = 2, stride = 2)\n",
        "        \n",
        "      self.conv21 = nn.Conv2d(in_channels= 16, out_channels= 16, kernel_size=3 , padding = 1, stride = 1)\n",
        "      self.relu21 = nn.ReLU(inplace=True)\n",
        "      self.conv22 = nn.Conv2d(in_channels= 16, out_channels= 16, kernel_size=3 , padding = 1, stride = 1)\n",
        "      self.relu22 = nn.ReLU(inplace=True)\n",
        "        \n",
        "      self.max3 = nn.MaxPool2d(kernel_size = 2, stride = 2)\n",
        "      self.conv3 = nn.Conv2d(in_channels= 16, out_channels= 64, kernel_size=3 , padding = 1, stride = 1)\n",
        "      self.relu3 = nn.ReLU(inplace=True)\n",
        "\n",
        "      self.conv41 = nn.Conv2d(in_channels= 64, out_channels= 64, kernel_size=3 , padding = 1, stride = 1)\n",
        "      self.relu41 = nn.ReLU(inplace=True)\n",
        "      self.conv42 = nn.Conv2d(in_channels= 64, out_channels= 64, kernel_size=3 , padding = 1, stride = 1)\n",
        "      self.relu42 = nn.ReLU(inplace=True)\n",
        "\n",
        "      self.AAP = nn.AdaptiveAvgPool2d(1)\n",
        "\n",
        "      self.linear5 = nn.Linear(64, 10)\n",
        "      self.relu5 = nn.ReLU(inplace=True)\n",
        "\n",
        "    def forward(self,x):\n",
        "      x = self.conv1(x)\n",
        "      x = self.relu1(x)\n",
        "      x = self.max1(x)\n",
        "      \n",
        "      res1 = torch.clone(x)\n",
        "      res1 = self.conv21(res1)\n",
        "      res1 = self.relu21(res1)\n",
        "      res1 = self.conv22(res1)\n",
        "      res1 = self.relu22(res1)\n",
        "\n",
        "      x = x + res1\n",
        "\n",
        "      x = self.max3(x)\n",
        "      x = self.conv3(x)\n",
        "      x = self.relu3(x)\n",
        "\n",
        "      res2 = torch.clone(x)\n",
        "      res2 = self.conv41(res2)\n",
        "      res2 = self.relu41(res2)\n",
        "      res2 = self.conv42(res2)\n",
        "      res2 = self.relu42(res2)\n",
        "\n",
        "      x = x + res2\n",
        "      x = self.AAP(x)\n",
        "      x = x.view(-1, 64*1*1)\n",
        "      x = self.linear5(x)\n",
        "      #x = self.relu5(x)\n",
        "      return x"
      ]
    },
    {
      "cell_type": "markdown",
      "metadata": {
        "id": "1jZeKXV9Rbq3"
      },
      "source": [
        "# Train Model (30 Points)"
      ]
    },
    {
      "cell_type": "code",
      "execution_count": 22,
      "metadata": {
        "id": "koMk0TkKRazn"
      },
      "outputs": [],
      "source": [
        "######################################################################\n",
        "##        Instantiate model, define hyper parameters, optimizer,    ##\n",
        "##        loss function and etc                                     ##\n",
        "######################################################################\n",
        "model = ResidualClassifier().to(device)\n",
        "criterion = nn.CrossEntropyLoss()\n",
        "optimizer = torch.optim.Adam(model.parameters())"
      ]
    },
    {
      "cell_type": "code",
      "execution_count": 23,
      "metadata": {
        "id": "USg0P_3porb9",
        "colab": {
          "base_uri": "https://localhost:8080/"
        },
        "outputId": "a5ed00ca-a763-4a75-9f85-0013ef6230a1"
      },
      "outputs": [
        {
          "output_type": "stream",
          "name": "stdout",
          "text": [
            "Epoch 1\n",
            " Training : Loss : 0.1426, Acc : 0.9573\n",
            " Validation : Loss : 0.1602, Acc : 0.9529\n",
            "Epoch 2\n",
            " Training : Loss : 0.0539, Acc : 0.9833\n",
            " Validation : Loss : 0.0636, Acc : 0.9798\n",
            "Epoch 3\n",
            " Training : Loss : 0.0561, Acc : 0.9824\n",
            " Validation : Loss : 0.0771, Acc : 0.9776\n",
            "Epoch 4\n",
            " Training : Loss : 0.0379, Acc : 0.9885\n",
            " Validation : Loss : 0.0517, Acc : 0.9834\n",
            "Epoch 5\n",
            " Training : Loss : 0.0254, Acc : 0.9921\n",
            " Validation : Loss : 0.0386, Acc : 0.9882\n",
            "Epoch 6\n",
            " Training : Loss : 0.0208, Acc : 0.9935\n",
            " Validation : Loss : 0.0413, Acc : 0.9876\n",
            "Epoch 7\n",
            " Training : Loss : 0.0225, Acc : 0.9926\n",
            " Validation : Loss : 0.0412, Acc : 0.9890\n",
            "Epoch 8\n",
            " Training : Loss : 0.0100, Acc : 0.9969\n",
            " Validation : Loss : 0.0316, Acc : 0.9912\n",
            "Epoch 9\n",
            " Training : Loss : 0.0153, Acc : 0.9955\n",
            " Validation : Loss : 0.0342, Acc : 0.9896\n",
            "Epoch 10\n",
            " Training : Loss : 0.0144, Acc : 0.9954\n",
            " Validation : Loss : 0.0384, Acc : 0.9888\n",
            "Epoch 11\n",
            " Training : Loss : 0.0086, Acc : 0.9973\n",
            " Validation : Loss : 0.0325, Acc : 0.9911\n",
            "Epoch 12\n",
            " Training : Loss : 0.0170, Acc : 0.9948\n",
            " Validation : Loss : 0.0525, Acc : 0.9874\n",
            "Epoch 13\n",
            " Training : Loss : 0.0071, Acc : 0.9978\n",
            " Validation : Loss : 0.0445, Acc : 0.9899\n",
            "Epoch 14\n",
            " Training : Loss : 0.0096, Acc : 0.9966\n",
            " Validation : Loss : 0.0402, Acc : 0.9889\n",
            "Epoch 15\n",
            " Training : Loss : 0.0219, Acc : 0.9925\n",
            " Validation : Loss : 0.0513, Acc : 0.9855\n",
            "Epoch 16\n",
            " Training : Loss : 0.0057, Acc : 0.9979\n",
            " Validation : Loss : 0.0405, Acc : 0.9899\n",
            "Epoch 17\n",
            " Training : Loss : 0.0049, Acc : 0.9983\n",
            " Validation : Loss : 0.0406, Acc : 0.9908\n",
            "Epoch 18\n",
            " Training : Loss : 0.0040, Acc : 0.9986\n",
            " Validation : Loss : 0.0361, Acc : 0.9918\n",
            "Epoch 19\n",
            " Training : Loss : 0.0026, Acc : 0.9990\n",
            " Validation : Loss : 0.0403, Acc : 0.9922\n",
            "Epoch 20\n",
            " Training : Loss : 0.0031, Acc : 0.9990\n",
            " Validation : Loss : 0.0389, Acc : 0.9918\n",
            "Epoch 21\n",
            " Training : Loss : 0.0077, Acc : 0.9974\n",
            " Validation : Loss : 0.0484, Acc : 0.9891\n",
            "Epoch 22\n",
            " Training : Loss : 0.0034, Acc : 0.9988\n",
            " Validation : Loss : 0.0481, Acc : 0.9901\n",
            "Epoch 23\n",
            " Training : Loss : 0.0032, Acc : 0.9989\n",
            " Validation : Loss : 0.0383, Acc : 0.9914\n",
            "Epoch 24\n",
            " Training : Loss : 0.0062, Acc : 0.9982\n",
            " Validation : Loss : 0.0555, Acc : 0.9904\n",
            "Epoch 25\n",
            " Training : Loss : 0.0244, Acc : 0.9930\n",
            " Validation : Loss : 0.0843, Acc : 0.9844\n"
          ]
        }
      ],
      "source": [
        "######################################################################\n",
        "##        Train your model (Complete the code below)                ##\n",
        "######################################################################\n",
        "total_step = len(train_loader)\n",
        "num_epochs = 20\n",
        "\n",
        "def test(model, loader, f_loss, device):\n",
        "    with torch.no_grad():\n",
        "        model.eval()\n",
        "        N = 0\n",
        "        tot_loss, correct = 0.0, 0.0\n",
        "        for i, (inputs, targets) in enumerate(loader):\n",
        "            inputs, targets = inputs.to(device), targets.to(device)\n",
        "            outputs = model(inputs)\n",
        "            N += inputs.shape[0]\n",
        "            tot_loss += inputs.shape[0] * f_loss(outputs, targets).item()\n",
        "            predicted_targets = outputs.argmax(dim=1)\n",
        "            correct += (predicted_targets == targets).sum().item()\n",
        "        return tot_loss/N, correct/N\n",
        "def train(model, loader, f_loss, optimizer, device):\n",
        "    model.train()\n",
        "    for i, (inputs, targets) in enumerate(loader):\n",
        "        inputs, targets = inputs.to(device), targets.to(device)\n",
        "        outputs = model(inputs)\n",
        "        loss = f_loss(outputs, targets)\n",
        "        optimizer.zero_grad()\n",
        "        loss.backward()\n",
        "        optimizer.step()\n",
        "val_loss_list = []\n",
        "val_acc_list = []\n",
        "train_loss_list = []\n",
        "train_acc_list = []\n",
        "val_loss_min = np.Inf\n",
        "epochs = 25\n",
        "\n",
        "for t in range(epochs):\n",
        "    print(\"Epoch {}\".format(t+1))\n",
        "    train(model, train_loader, criterion, optimizer, device)\n",
        "    val_loss, val_acc = test(model, val_loader, criterion, device)\n",
        "    train_loss, train_acc = test(model, train_loader, criterion, device)\n",
        "    if (val_loss < val_loss_min):\n",
        "      val_loss_min = val_loss\n",
        "      torch.save(model.state_dict(),'model.pt')\n",
        "    val_loss_list.append(val_loss)\n",
        "    val_acc_list.append(val_acc)\n",
        "    train_loss_list.append(train_loss)\n",
        "    train_acc_list.append(train_acc)\n",
        "    print(\" Training : Loss : {:.4f}, Acc : {:.4f}\".format(train_loss, train_acc))\n",
        "    print(\" Validation : Loss : {:.4f}, Acc : {:.4f}\".format(val_loss, val_acc))"
      ]
    },
    {
      "cell_type": "code",
      "execution_count": 24,
      "metadata": {
        "id": "_YSWvcEGSVor",
        "colab": {
          "base_uri": "https://localhost:8080/",
          "height": 581
        },
        "outputId": "9e34cf16-c05f-4e0a-c34c-bf3a352165bf"
      },
      "outputs": [
        {
          "output_type": "display_data",
          "data": {
            "text/plain": [
              "<Figure size 432x288 with 1 Axes>"
            ],
            "image/png": "[encoded data removed]"
          },
          "metadata": {}
        },
        {
          "output_type": "display_data",
          "data": {
            "text/plain": [
              "<Figure size 432x288 with 1 Axes>"
            ],
            "image/png": "[encoded data removed]"
          },
          "metadata": {}
        }
      ],
      "source": [
        "plt.plot(val_loss_list, 'r-',label='validation')\n",
        "plt.plot(train_loss_list, 'b-',label='train')\n",
        "plt.title('LOSS')\n",
        "plt.legend()\n",
        "plt.xlabel('epoch')\n",
        "plt.ylabel('Cross Entropy Loss')\n",
        "plt.show()\n",
        "plt.plot(val_acc_list, 'r-',label='validation')\n",
        "plt.plot(train_acc_list, 'b-',label='train')\n",
        "plt.title('ACCURACY')\n",
        "plt.legend()\n",
        "plt.xlabel('epoch')\n",
        "plt.ylabel('%')\n",
        "plt.show()"
      ]
    },
    {
      "cell_type": "markdown",
      "metadata": {
        "id": "LzhCrIFkSE1D"
      },
      "source": [
        "# Test Model (20 Points)"
      ]
    },
    {
      "cell_type": "code",
      "execution_count": 25,
      "metadata": {
        "id": "ihixveNISFwE",
        "colab": {
          "base_uri": "https://localhost:8080/",
          "height": 319
        },
        "outputId": "3bcd63f9-3fd1-4cd9-edde-68329b7bf74b"
      },
      "outputs": [
        {
          "output_type": "stream",
          "name": "stdout",
          "text": [
            "10000\n",
            "Accuracy : 99.17%\n"
          ]
        },
        {
          "output_type": "execute_result",
          "data": {
            "text/plain": [
              "<matplotlib.axes._subplots.AxesSubplot at 0x7f2eb3e691f0>"
            ]
          },
          "metadata": {},
          "execution_count": 25
        },
        {
          "output_type": "display_data",
          "data": {
            "text/plain": [
              "<Figure size 432x288 with 2 Axes>"
            ],
            "image/png": "[encoded data removed]"
          },
          "metadata": {}
        }
      ],
      "source": [
        "##################################################\n",
        "##          Test your model on test-set         ##\n",
        "##          and plot confusion matrix           ##\n",
        "##################################################\n",
        "test_loader = torch.utils.data.DataLoader(dataset=test_data,batch_size=64, shuffle=False, num_workers=num_threads)\n",
        "print(len(test_data))\n",
        "\n",
        "model = ResidualClassifier().to(device)\n",
        "model.load_state_dict(torch.load('model.pt'))\n",
        "loss = 0\n",
        "true_predict = 0\n",
        "y_true = []\n",
        "y_pred = []\n",
        "for (data, label) in test_loader:\n",
        "  output = model(data.to(device))\n",
        "  pred = torch.argmax(output, dim = 1)\n",
        "  y_true.append(list(label.cpu().numpy()))\n",
        "  y_pred.append(list(pred.cpu().numpy()))\n",
        "  true_predict += torch.sum(pred == label.to(device)).item()\n",
        "accuracy = true_predict / len(test_loader.sampler)\n",
        "print('Accuracy : {:.2%}'.format(accuracy))\n",
        "from itertools import chain\n",
        "y_true = list(chain.from_iterable(y_true))\n",
        "y_pred = list(chain.from_iterable(y_pred))\n",
        "from sklearn.metrics import confusion_matrix\n",
        "cf_matrix = confusion_matrix(y_true, y_pred)\n",
        "import seaborn as sns\n",
        "sns.heatmap(cf_matrix, annot=True, fmt='d')"
      ]
    }
  ],
  "metadata": {
    "colab": {
      "provenance": []
    },
    "kernelspec": {
      "display_name": "Python 3 (ipykernel)",
      "language": "python",
      "name": "python3"
    },
    "language_info": {
      "codemirror_mode": {
        "name": "ipython",
        "version": 3
      },
      "file_extension": ".py",
      "mimetype": "text/x-python",
      "name": "python",
      "nbconvert_exporter": "python",
      "pygments_lexer": "ipython3",
      "version": "3.9.7"
    },
    "varInspector": {
      "cols": {
        "lenName": 16,
        "lenType": 16,
        "lenVar": 40
      },
      "kernels_config": {
        "python": {
          "delete_cmd_postfix": "",
          "delete_cmd_prefix": "del ",
          "library": "var_list.py",
          "varRefreshCmd": "print(var_dic_list())"
        },
        "r": {
          "delete_cmd_postfix": ") ",
          "delete_cmd_prefix": "rm(",
          "library": "var_list.r",
          "varRefreshCmd": "cat(var_dic_list()) "
        }
      },
      "types_to_exclude": [
        "module",
        "function",
        "builtin_function_or_method",
        "instance",
        "_Feature"
      ],
      "window_display": false
    },
    "vscode": {
      "interpreter": {
        "hash": "bb93c294e1388593f3ce88f4c5e050b65c17fc54b955fa171f33a4b9b3d10054"
      }
    },
    "accelerator": "GPU",
    "gpuClass": "standard"
  },
  "nbformat": 4,
  "nbformat_minor": 0
}