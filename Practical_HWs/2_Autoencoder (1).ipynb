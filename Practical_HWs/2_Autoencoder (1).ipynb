{
  "cells": [
    {
      "cell_type": "markdown",
      "metadata": {
        "id": "waLIjkRhequf"
      },
      "source": [
        "<img src='http://www-scf.usc.edu/~ghasemig/images/sharif.png' alt=\"SUT logo\" width=200 height=200 align=left class=\"saturate\" >\n",
        "\n",
        "<br>\n",
        "<font face=\"Times New Roman\">\n",
        "<div dir=ltr align=center>\n",
        "<font color=0F5298 size=7>\n",
        "    Introduction to Machine Learning <br>\n",
        "<font color=2565AE size=5>\n",
        "    Computer Engineering Department <br>\n",
        "    Fall 2022<br>\n",
        "<font color=3C99D size=5>\n",
        "    Homework 3: Practical - Neural Network <br>\n",
        "<font color=696880 size=4>\n",
        "    Alireza Belal\n",
        "    \n",
        "    \n",
        "____\n"
      ]
    },
    {
      "attachments": {},
      "cell_type": "markdown",
      "metadata": {
        "id": "cy07rqsvequl"
      },
      "source": [
        "### Full Name : KASRA MALIHI\n",
        "### Student Number : 99105742\n",
        "___"
      ]
    },
    {
      "cell_type": "markdown",
      "metadata": {
        "id": "Plq1eDtmequm"
      },
      "source": [
        "# Setup"
      ]
    },
    {
      "cell_type": "markdown",
      "metadata": {
        "id": "VfZiMEVeequm"
      },
      "source": [
        "# 0. Preparation\n",
        "\n",
        "In this part, you will use a dataset related to COVID-19. Load your dataset using pandas."
      ]
    },
    {
      "cell_type": "code",
      "execution_count": 13,
      "metadata": {
        "id": "LRmV2Ni7equm"
      },
      "outputs": [],
      "source": [
        "import pandas as pd\n",
        "from sklearn.preprocessing import LabelEncoder\n",
        "covid_data = pd.read_csv('Covid Dataset.csv')\n",
        "categorical_feature_mask = covid_data.dtypes == object\n",
        "cateforical_cols = covid_data.columns[categorical_feature_mask].tolist()\n",
        "le = LabelEncoder()\n",
        "covid_data[cateforical_cols] = covid_data[cateforical_cols].apply(lambda col: le.fit_transform(col))\n",
        "covid_data = covid_data.astype(float)\n",
        "\n",
        "# Extract X and Y from the dataset\n",
        "X_total = covid_data.iloc[:, 0:20].values\n",
        "y_total = covid_data.iloc[:,20].values\n",
        "\n",
        "\n",
        "#SPLIT THE DATA INTO TRAIN AND TEST DATA \n",
        "from sklearn.model_selection import train_test_split\n",
        "X_train, X_test, y_train, y_test = train_test_split(X_total, y_total, test_size = 0.3, random_state = 0)"
      ]
    },
    {
      "cell_type": "markdown",
      "metadata": {
        "id": "gZ_6Oq7Sequn"
      },
      "source": [
        "---------------"
      ]
    },
    {
      "cell_type": "markdown",
      "metadata": {
        "id": "wXtKCCPpequn"
      },
      "source": [
        "# 1. DNN as nonlinear dimensionality reduction method (50 Points)\n",
        "\n",
        "Autoencoder is an unsupervised artificial neural network that compresses the data to lower dimension and then reconstructs the input back. Autoencoder finds the representation of the data in a lower dimension by focusing more on the important features getting rid of noise and redundancy. It's based on Encoder-Decoder architecture, where encoder encodes the high-dimensional data to lower-dimension and decoder takes the lower-dimensional data and tries to reconstruct the original high-dimensional data.\n",
        "\n",
        "![picture](https://drive.google.com/uc?id=1RTZwx4xL6zFV_nUENBgWlFKLKldPoyI-)\n",
        "\n",
        "In the above Diagram, X is the input data, z is the lower-dimension representation of input X and X’ is the reconstructed input data. The mapping of higher to lower dimensions can be linear or non-linear depending on the choice of the activation function.\n",
        "\n",
        "In this part you're gonna implement an autoencoder using Keras framework as dimensionally reduction module as explained [here](https://blog.keras.io/building-autoencoders-in-keras.html).\n",
        "(It would be ok to use PyTorch as well.)\n",
        "Reduce the dimension of the data to 2 dimensions and visualize the low-dimensional data."
      ]
    },
    {
      "cell_type": "code",
      "execution_count": 14,
      "metadata": {
        "id": "moGEgpV999cl"
      },
      "outputs": [],
      "source": [
        "# import necessary libraries\n",
        "import keras\n",
        "from keras import layers"
      ]
    },
    {
      "cell_type": "code",
      "execution_count": 26,
      "metadata": {
        "id": "EYdLmiY4equo"
      },
      "outputs": [],
      "source": [
        "# define layers (25 Points)\n",
        "\n",
        "encoding_dim = 2\n",
        "\n",
        "# This is our input image\n",
        "input_data = keras.Input(shape=(20,))\n",
        "\n",
        "encoded = layers.Dense(10, activation='relu')(input_data)\n",
        "encoded = layers.Dense(encoding_dim, activation='relu')(encoded)\n",
        "\n",
        "decoded = layers.Dense(10, activation='relu')(encoded)\n",
        "decoded = layers.Dense(20, activation='sigmoid')(decoded)\n",
        "\n",
        "\n",
        "\n",
        "# This model maps an input to its reconstruction\n",
        "autoencoder = keras.Model(input_data, decoded)"
      ]
    },
    {
      "cell_type": "code",
      "execution_count": 27,
      "metadata": {
        "colab": {
          "base_uri": "https://localhost:8080/"
        },
        "id": "f8ZDfU7GjnVL",
        "outputId": "4f131eea-0bbc-4acb-a6c5-a57c72b377d3"
      },
      "outputs": [
        {
          "name": "stdout",
          "output_type": "stream",
          "text": [
            "(3803, 20)\n",
            "(1631, 20)\n"
          ]
        }
      ],
      "source": [
        "import numpy as np\n",
        "X_train = X_train.reshape((len(X_train), np.prod(X_train.shape[1:])))\n",
        "X_test = X_test.reshape((len(X_test), np.prod(X_test.shape[1:])))\n",
        "print(X_train.shape)\n",
        "print(X_test.shape)"
      ]
    },
    {
      "cell_type": "code",
      "execution_count": 29,
      "metadata": {
        "colab": {
          "base_uri": "https://localhost:8080/"
        },
        "id": "T1PGAszLequo",
        "outputId": "d64a97aa-e8e1-4089-e880-f19698a4eae2"
      },
      "outputs": [
        {
          "name": "stdout",
          "output_type": "stream",
          "text": [
            "Epoch 1/100\n",
            "15/15 [==============================] - 1s 12ms/step - loss: 0.7026 - val_loss: 0.6946\n",
            "Epoch 2/100\n",
            "15/15 [==============================] - 0s 4ms/step - loss: 0.6905 - val_loss: 0.6877\n",
            "Epoch 3/100\n",
            "15/15 [==============================] - 0s 5ms/step - loss: 0.6849 - val_loss: 0.6824\n",
            "Epoch 4/100\n",
            "15/15 [==============================] - 0s 5ms/step - loss: 0.6790 - val_loss: 0.6759\n",
            "Epoch 5/100\n",
            "15/15 [==============================] - 0s 6ms/step - loss: 0.6716 - val_loss: 0.6682\n",
            "Epoch 6/100\n",
            "15/15 [==============================] - 0s 4ms/step - loss: 0.6632 - val_loss: 0.6593\n",
            "Epoch 7/100\n",
            "15/15 [==============================] - 0s 5ms/step - loss: 0.6536 - val_loss: 0.6495\n",
            "Epoch 8/100\n",
            "15/15 [==============================] - 0s 4ms/step - loss: 0.6432 - val_loss: 0.6390\n",
            "Epoch 9/100\n",
            "15/15 [==============================] - 0s 5ms/step - loss: 0.6324 - val_loss: 0.6283\n",
            "Epoch 10/100\n",
            "15/15 [==============================] - 0s 5ms/step - loss: 0.6219 - val_loss: 0.6178\n",
            "Epoch 11/100\n",
            "15/15 [==============================] - 0s 5ms/step - loss: 0.6118 - val_loss: 0.6081\n",
            "Epoch 12/100\n",
            "15/15 [==============================] - 0s 4ms/step - loss: 0.6027 - val_loss: 0.5993\n",
            "Epoch 13/100\n",
            "15/15 [==============================] - 0s 4ms/step - loss: 0.5946 - val_loss: 0.5916\n",
            "Epoch 14/100\n",
            "15/15 [==============================] - 0s 4ms/step - loss: 0.5876 - val_loss: 0.5849\n",
            "Epoch 15/100\n",
            "15/15 [==============================] - 0s 5ms/step - loss: 0.5816 - val_loss: 0.5792\n",
            "Epoch 16/100\n",
            "15/15 [==============================] - 0s 5ms/step - loss: 0.5764 - val_loss: 0.5743\n",
            "Epoch 17/100\n",
            "15/15 [==============================] - 0s 4ms/step - loss: 0.5719 - val_loss: 0.5697\n",
            "Epoch 18/100\n",
            "15/15 [==============================] - 0s 4ms/step - loss: 0.5678 - val_loss: 0.5657\n",
            "Epoch 19/100\n",
            "15/15 [==============================] - 0s 5ms/step - loss: 0.5640 - val_loss: 0.5619\n",
            "Epoch 20/100\n",
            "15/15 [==============================] - 0s 4ms/step - loss: 0.5603 - val_loss: 0.5582\n",
            "Epoch 21/100\n",
            "15/15 [==============================] - 0s 5ms/step - loss: 0.5569 - val_loss: 0.5547\n",
            "Epoch 22/100\n",
            "15/15 [==============================] - 0s 5ms/step - loss: 0.5535 - val_loss: 0.5516\n",
            "Epoch 23/100\n",
            "15/15 [==============================] - 0s 4ms/step - loss: 0.5504 - val_loss: 0.5487\n",
            "Epoch 24/100\n",
            "15/15 [==============================] - 0s 4ms/step - loss: 0.5475 - val_loss: 0.5459\n",
            "Epoch 25/100\n",
            "15/15 [==============================] - 0s 5ms/step - loss: 0.5449 - val_loss: 0.5434\n",
            "Epoch 26/100\n",
            "15/15 [==============================] - 0s 4ms/step - loss: 0.5425 - val_loss: 0.5412\n",
            "Epoch 27/100\n",
            "15/15 [==============================] - 0s 4ms/step - loss: 0.5402 - val_loss: 0.5390\n",
            "Epoch 28/100\n",
            "15/15 [==============================] - 0s 4ms/step - loss: 0.5381 - val_loss: 0.5370\n",
            "Epoch 29/100\n",
            "15/15 [==============================] - 0s 4ms/step - loss: 0.5360 - val_loss: 0.5351\n",
            "Epoch 30/100\n",
            "15/15 [==============================] - 0s 5ms/step - loss: 0.5341 - val_loss: 0.5332\n",
            "Epoch 31/100\n",
            "15/15 [==============================] - 0s 4ms/step - loss: 0.5321 - val_loss: 0.5316\n",
            "Epoch 32/100\n",
            "15/15 [==============================] - 0s 5ms/step - loss: 0.5303 - val_loss: 0.5299\n",
            "Epoch 33/100\n",
            "15/15 [==============================] - 0s 5ms/step - loss: 0.5286 - val_loss: 0.5283\n",
            "Epoch 34/100\n",
            "15/15 [==============================] - 0s 4ms/step - loss: 0.5269 - val_loss: 0.5269\n",
            "Epoch 35/100\n",
            "15/15 [==============================] - 0s 8ms/step - loss: 0.5255 - val_loss: 0.5255\n",
            "Epoch 36/100\n",
            "15/15 [==============================] - 0s 4ms/step - loss: 0.5240 - val_loss: 0.5242\n",
            "Epoch 37/100\n",
            "15/15 [==============================] - 0s 5ms/step - loss: 0.5226 - val_loss: 0.5230\n",
            "Epoch 38/100\n",
            "15/15 [==============================] - 0s 4ms/step - loss: 0.5214 - val_loss: 0.5219\n",
            "Epoch 39/100\n",
            "15/15 [==============================] - 0s 5ms/step - loss: 0.5201 - val_loss: 0.5209\n",
            "Epoch 40/100\n",
            "15/15 [==============================] - 0s 4ms/step - loss: 0.5191 - val_loss: 0.5198\n",
            "Epoch 41/100\n",
            "15/15 [==============================] - 0s 4ms/step - loss: 0.5181 - val_loss: 0.5189\n",
            "Epoch 42/100\n",
            "15/15 [==============================] - 0s 4ms/step - loss: 0.5171 - val_loss: 0.5181\n",
            "Epoch 43/100\n",
            "15/15 [==============================] - 0s 5ms/step - loss: 0.5162 - val_loss: 0.5173\n",
            "Epoch 44/100\n",
            "15/15 [==============================] - 0s 4ms/step - loss: 0.5153 - val_loss: 0.5165\n",
            "Epoch 45/100\n",
            "15/15 [==============================] - 0s 5ms/step - loss: 0.5146 - val_loss: 0.5158\n",
            "Epoch 46/100\n",
            "15/15 [==============================] - 0s 6ms/step - loss: 0.5137 - val_loss: 0.5151\n",
            "Epoch 47/100\n",
            "15/15 [==============================] - 0s 5ms/step - loss: 0.5130 - val_loss: 0.5145\n",
            "Epoch 48/100\n",
            "15/15 [==============================] - 0s 4ms/step - loss: 0.5124 - val_loss: 0.5138\n",
            "Epoch 49/100\n",
            "15/15 [==============================] - 0s 4ms/step - loss: 0.5117 - val_loss: 0.5132\n",
            "Epoch 50/100\n",
            "15/15 [==============================] - 0s 5ms/step - loss: 0.5111 - val_loss: 0.5126\n",
            "Epoch 51/100\n",
            "15/15 [==============================] - 0s 5ms/step - loss: 0.5104 - val_loss: 0.5120\n",
            "Epoch 52/100\n",
            "15/15 [==============================] - 0s 5ms/step - loss: 0.5098 - val_loss: 0.5115\n",
            "Epoch 53/100\n",
            "15/15 [==============================] - 0s 4ms/step - loss: 0.5093 - val_loss: 0.5110\n",
            "Epoch 54/100\n",
            "15/15 [==============================] - 0s 6ms/step - loss: 0.5087 - val_loss: 0.5105\n",
            "Epoch 55/100\n",
            "15/15 [==============================] - 0s 4ms/step - loss: 0.5082 - val_loss: 0.5101\n",
            "Epoch 56/100\n",
            "15/15 [==============================] - 0s 4ms/step - loss: 0.5077 - val_loss: 0.5096\n",
            "Epoch 57/100\n",
            "15/15 [==============================] - 0s 4ms/step - loss: 0.5073 - val_loss: 0.5092\n",
            "Epoch 58/100\n",
            "15/15 [==============================] - 0s 4ms/step - loss: 0.5068 - val_loss: 0.5088\n",
            "Epoch 59/100\n",
            "15/15 [==============================] - 0s 5ms/step - loss: 0.5064 - val_loss: 0.5085\n",
            "Epoch 60/100\n",
            "15/15 [==============================] - 0s 5ms/step - loss: 0.5060 - val_loss: 0.5080\n",
            "Epoch 61/100\n",
            "15/15 [==============================] - 0s 5ms/step - loss: 0.5056 - val_loss: 0.5077\n",
            "Epoch 62/100\n",
            "15/15 [==============================] - 0s 4ms/step - loss: 0.5051 - val_loss: 0.5073\n",
            "Epoch 63/100\n",
            "15/15 [==============================] - 0s 4ms/step - loss: 0.5049 - val_loss: 0.5070\n",
            "Epoch 64/100\n",
            "15/15 [==============================] - 0s 4ms/step - loss: 0.5045 - val_loss: 0.5067\n",
            "Epoch 65/100\n",
            "15/15 [==============================] - 0s 4ms/step - loss: 0.5040 - val_loss: 0.5065\n",
            "Epoch 66/100\n",
            "15/15 [==============================] - 0s 5ms/step - loss: 0.5038 - val_loss: 0.5061\n",
            "Epoch 67/100\n",
            "15/15 [==============================] - 0s 5ms/step - loss: 0.5035 - val_loss: 0.5059\n",
            "Epoch 68/100\n",
            "15/15 [==============================] - 0s 4ms/step - loss: 0.5031 - val_loss: 0.5056\n",
            "Epoch 69/100\n",
            "15/15 [==============================] - 0s 5ms/step - loss: 0.5028 - val_loss: 0.5053\n",
            "Epoch 70/100\n",
            "15/15 [==============================] - 0s 4ms/step - loss: 0.5026 - val_loss: 0.5051\n",
            "Epoch 71/100\n",
            "15/15 [==============================] - 0s 5ms/step - loss: 0.5023 - val_loss: 0.5048\n",
            "Epoch 72/100\n",
            "15/15 [==============================] - 0s 4ms/step - loss: 0.5021 - val_loss: 0.5047\n",
            "Epoch 73/100\n",
            "15/15 [==============================] - 0s 5ms/step - loss: 0.5018 - val_loss: 0.5044\n",
            "Epoch 74/100\n",
            "15/15 [==============================] - 0s 4ms/step - loss: 0.5016 - val_loss: 0.5041\n",
            "Epoch 75/100\n",
            "15/15 [==============================] - 0s 5ms/step - loss: 0.5013 - val_loss: 0.5040\n",
            "Epoch 76/100\n",
            "15/15 [==============================] - 0s 4ms/step - loss: 0.5012 - val_loss: 0.5038\n",
            "Epoch 77/100\n",
            "15/15 [==============================] - 0s 4ms/step - loss: 0.5009 - val_loss: 0.5036\n",
            "Epoch 78/100\n",
            "15/15 [==============================] - 0s 4ms/step - loss: 0.5006 - val_loss: 0.5033\n",
            "Epoch 79/100\n",
            "15/15 [==============================] - 0s 4ms/step - loss: 0.5005 - val_loss: 0.5032\n",
            "Epoch 80/100\n",
            "15/15 [==============================] - 0s 4ms/step - loss: 0.5003 - val_loss: 0.5030\n",
            "Epoch 81/100\n",
            "15/15 [==============================] - 0s 4ms/step - loss: 0.5001 - val_loss: 0.5029\n",
            "Epoch 82/100\n",
            "15/15 [==============================] - 0s 4ms/step - loss: 0.4999 - val_loss: 0.5026\n",
            "Epoch 83/100\n",
            "15/15 [==============================] - 0s 5ms/step - loss: 0.4996 - val_loss: 0.5027\n",
            "Epoch 84/100\n",
            "15/15 [==============================] - 0s 4ms/step - loss: 0.4995 - val_loss: 0.5023\n",
            "Epoch 85/100\n",
            "15/15 [==============================] - 0s 4ms/step - loss: 0.4993 - val_loss: 0.5023\n",
            "Epoch 86/100\n",
            "15/15 [==============================] - 0s 5ms/step - loss: 0.4992 - val_loss: 0.5022\n",
            "Epoch 87/100\n",
            "15/15 [==============================] - 0s 5ms/step - loss: 0.4991 - val_loss: 0.5019\n",
            "Epoch 88/100\n",
            "15/15 [==============================] - 0s 4ms/step - loss: 0.4988 - val_loss: 0.5017\n",
            "Epoch 89/100\n",
            "15/15 [==============================] - 0s 4ms/step - loss: 0.4986 - val_loss: 0.5017\n",
            "Epoch 90/100\n",
            "15/15 [==============================] - 0s 5ms/step - loss: 0.4985 - val_loss: 0.5014\n",
            "Epoch 91/100\n",
            "15/15 [==============================] - 0s 4ms/step - loss: 0.4983 - val_loss: 0.5014\n",
            "Epoch 92/100\n",
            "15/15 [==============================] - 0s 4ms/step - loss: 0.4981 - val_loss: 0.5012\n",
            "Epoch 93/100\n",
            "15/15 [==============================] - 0s 5ms/step - loss: 0.4980 - val_loss: 0.5011\n",
            "Epoch 94/100\n",
            "15/15 [==============================] - 0s 4ms/step - loss: 0.4978 - val_loss: 0.5011\n",
            "Epoch 95/100\n",
            "15/15 [==============================] - 0s 4ms/step - loss: 0.4977 - val_loss: 0.5008\n",
            "Epoch 96/100\n",
            "15/15 [==============================] - 0s 4ms/step - loss: 0.4976 - val_loss: 0.5007\n",
            "Epoch 97/100\n",
            "15/15 [==============================] - 0s 5ms/step - loss: 0.4974 - val_loss: 0.5007\n",
            "Epoch 98/100\n",
            "15/15 [==============================] - 0s 5ms/step - loss: 0.4973 - val_loss: 0.5005\n",
            "Epoch 99/100\n",
            "15/15 [==============================] - 0s 5ms/step - loss: 0.4972 - val_loss: 0.5004\n",
            "Epoch 100/100\n",
            "15/15 [==============================] - 0s 5ms/step - loss: 0.4970 - val_loss: 0.5004\n",
            "51/51 [==============================] - 0s 1ms/step\n"
          ]
        }
      ],
      "source": [
        "# train the model and reduce the dimension of the data (15 Points)\n",
        "encoder = keras.Model(input_data, encoded)\n",
        "# This is our encoded (2-dimensional) input\n",
        "encoded_input = keras.Input(shape=(encoding_dim,))\n",
        "# Retrieve the last layer of the autoencoder model\n",
        "decoder_layer = autoencoder.layers[-1]\n",
        "# Create the decoder model\n",
        "#decoder = keras.Model(encoded_input, decoder_layer(encoded_input))\n",
        "autoencoder.compile(optimizer='adam', loss='binary_crossentropy')\n",
        "autoencoder.fit(X_train, X_train,\n",
        "                epochs=100,\n",
        "                batch_size=256,\n",
        "                shuffle=True,\n",
        "                validation_data=(X_test, X_test))\n",
        "encoded_data = encoder.predict(X_test)\n",
        "#decoded_data = decoder.predict(encoded_data)"
      ]
    },
    {
      "cell_type": "code",
      "execution_count": 30,
      "metadata": {
        "colab": {
          "base_uri": "https://localhost:8080/",
          "height": 268
        },
        "id": "O-THj8phequp",
        "outputId": "267f8631-6793-4edf-eb6e-4c28cd47fd3b"
      },
      "outputs": [
        {
          "data": {
            "image/png": "[encoded data removed]",
            "text/plain": [
              "<Figure size 432x288 with 1 Axes>"
            ]
          },
          "metadata": {
            "needs_background": "light"
          },
          "output_type": "display_data"
        }
      ],
      "source": [
        "# Plot the encoded data (10 Points)\n",
        "import matplotlib.pyplot as plt\n",
        "plt.scatter(encoded_data[:,0], encoded_data[:,1], c = y_test)\n",
        "plt.show()"
      ]
    }
  ],
  "metadata": {
    "colab": {
      "provenance": []
    },
    "kernelspec": {
      "display_name": "Python 3 (ipykernel)",
      "language": "python",
      "name": "python3"
    },
    "language_info": {
      "codemirror_mode": {
        "name": "ipython",
        "version": 3
      },
      "file_extension": ".py",
      "mimetype": "text/x-python",
      "name": "python",
      "nbconvert_exporter": "python",
      "pygments_lexer": "ipython3",
      "version": "3.9.7"
    },
    "vscode": {
      "interpreter": {
        "hash": "81794d4967e6c3204c66dcd87b604927b115b27c00565d3d43f05ba2f3a2cb0d"
      }
    }
  },
  "nbformat": 4,
  "nbformat_minor": 0
}
